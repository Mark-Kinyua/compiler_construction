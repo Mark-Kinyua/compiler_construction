{
  "nbformat": 4,
  "nbformat_minor": 0,
  "metadata": {
    "colab": {
      "provenance": [],
      "collapsed_sections": [],
      "include_colab_link": true
    },
    "kernelspec": {
      "name": "python3",
      "display_name": "Python 3"
    },
    "language_info": {
      "name": "python"
    }
  },
  "cells": [
    {
      "cell_type": "markdown",
      "metadata": {
        "id": "view-in-github",
        "colab_type": "text"
      },
      "source": [
        "<a href=\"https://colab.research.google.com/github/Mark-Kinyua/compiler_construction/blob/main/compiler_construction.ipynb\" target=\"_parent\"><img src=\"https://colab.research.google.com/assets/colab-badge.svg\" alt=\"Open In Colab\"/></a>"
      ]
    },
    {
      "cell_type": "markdown",
      "source": [
        "Student Details: \n",
        "\n",
        "1. Mark Muriithi - 112058\n",
        "2. \n",
        "3. \n",
        "4."
      ],
      "metadata": {
        "id": "siZ-euygFhtf"
      }
    },
    {
      "cell_type": "markdown",
      "source": [
        "**Compiler Construction Lab**"
      ],
      "metadata": {
        "id": "FOfIQFO5i_rg"
      }
    },
    {
      "cell_type": "markdown",
      "source": [
        "Lab 1"
      ],
      "metadata": {
        "id": "Sy7QJ93psymM"
      }
    }
  ]
}